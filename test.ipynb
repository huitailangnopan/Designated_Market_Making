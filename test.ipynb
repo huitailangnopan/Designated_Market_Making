{
 "cells": [
  {
   "cell_type": "code",
   "execution_count": 8,
   "metadata": {},
   "outputs": [],
   "source": [
    "import yaml"
   ]
  },
  {
   "cell_type": "code",
   "execution_count": 6,
   "metadata": {},
   "outputs": [],
   "source": [
    "price_path = r\"Portfolio and Trade book\\price_his.yml\"\n",
    "tickers = 'product_1'\n",
    "price = 12\n",
    "list1 = []"
   ]
  },
  {
   "cell_type": "code",
   "execution_count": 19,
   "metadata": {},
   "outputs": [
    {
     "data": {
      "text/plain": [
       "{'IBM': 1, 'akk': {1: 1}}"
      ]
     },
     "execution_count": 19,
     "metadata": {},
     "output_type": "execute_result"
    }
   ],
   "source": [
    "cur_yaml"
   ]
  },
  {
   "cell_type": "code",
   "execution_count": 23,
   "metadata": {},
   "outputs": [],
   "source": [
    "with open(price_path, 'r') as yamlfile:\n",
    "    cur_yaml = yaml.safe_load(yamlfile)\n",
    "    cur_yaml[tickers].append(price)\n",
    "    list1 = cur_yaml\n",
    "with open(price_path, 'w') as yaml_file:\n",
    "    yaml.dump(list1, yaml_file, default_flow_style=False)"
   ]
  },
  {
   "cell_type": "code",
   "execution_count": 21,
   "metadata": {},
   "outputs": [
    {
     "data": {
      "text/plain": [
       "{'product_1': [12]}"
      ]
     },
     "execution_count": 21,
     "metadata": {},
     "output_type": "execute_result"
    }
   ],
   "source": [
    "cur_yaml"
   ]
  },
  {
   "cell_type": "code",
   "execution_count": null,
   "metadata": {},
   "outputs": [],
   "source": [
    "from datetime import datetime\n",
    "import backtrader as bt\n",
    "\n",
    "class SmaCross(bt.SignalStrategy):\n",
    "    def __init__(self):\n",
    "        sma1, sma2 = bt.ind.SMA(period=10), bt.ind.SMA(period=30)\n",
    "        crossover = bt.ind.CrossOver(sma1, sma2)\n",
    "        self.signal_add(bt.SIGNAL_LONG, crossover)\n",
    "\n",
    "cerebro = bt.Cerebro()\n",
    "cerebro.addstrategy(SmaCross)\n",
    "\n",
    "data0 = bt.feeds.YahooFinanceData(dataname='MSFT', fromdate=datetime(2011, 1, 1),\n",
    "                                  todate=datetime(2012, 12, 31))\n",
    "cerebro.adddata(data0)\n",
    "\n",
    "cerebro.run()\n",
    "cerebro.plot()"
   ]
  },
  {
   "cell_type": "code",
   "execution_count": 3,
   "metadata": {},
   "outputs": [],
   "source": [
    "import pandas as pd\n",
    "import numpy as np\n",
    "import os"
   ]
  },
  {
   "cell_type": "code",
   "execution_count": 4,
   "metadata": {},
   "outputs": [],
   "source": [
    "os.chdir(r\"C:\\Users\\24395\\Downloads\\khypqgaihormjri2_csv\")"
   ]
  },
  {
   "cell_type": "code",
   "execution_count": 6,
   "metadata": {},
   "outputs": [],
   "source": [
    "df = pd.read_csv(r\"ibm_millisecond.csv\",nrows=100000)"
   ]
  },
  {
   "cell_type": "code",
   "execution_count": 7,
   "metadata": {},
   "outputs": [
    {
     "data": {
      "text/html": [
       "<div>\n",
       "<style scoped>\n",
       "    .dataframe tbody tr th:only-of-type {\n",
       "        vertical-align: middle;\n",
       "    }\n",
       "\n",
       "    .dataframe tbody tr th {\n",
       "        vertical-align: top;\n",
       "    }\n",
       "\n",
       "    .dataframe thead th {\n",
       "        text-align: right;\n",
       "    }\n",
       "</style>\n",
       "<table border=\"1\" class=\"dataframe\">\n",
       "  <thead>\n",
       "    <tr style=\"text-align: right;\">\n",
       "      <th></th>\n",
       "      <th>DATE</th>\n",
       "      <th>TIME_M</th>\n",
       "      <th>BID</th>\n",
       "      <th>BIDSIZ</th>\n",
       "      <th>ASK</th>\n",
       "      <th>ASKSIZ</th>\n",
       "      <th>QU_CANCEL</th>\n",
       "      <th>QU_SOURCE</th>\n",
       "      <th>SYM_ROOT</th>\n",
       "      <th>SYM_SUFFIX</th>\n",
       "    </tr>\n",
       "  </thead>\n",
       "  <tbody>\n",
       "    <tr>\n",
       "      <th>0</th>\n",
       "      <td>2023-01-03</td>\n",
       "      <td>3:59:00.044724480</td>\n",
       "      <td>0.00</td>\n",
       "      <td>0</td>\n",
       "      <td>0.00</td>\n",
       "      <td>0</td>\n",
       "      <td>NaN</td>\n",
       "      <td>C</td>\n",
       "      <td>IBM</td>\n",
       "      <td>NaN</td>\n",
       "    </tr>\n",
       "    <tr>\n",
       "      <th>1</th>\n",
       "      <td>2023-01-03</td>\n",
       "      <td>3:59:00.189233408</td>\n",
       "      <td>0.00</td>\n",
       "      <td>0</td>\n",
       "      <td>0.00</td>\n",
       "      <td>0</td>\n",
       "      <td>NaN</td>\n",
       "      <td>C</td>\n",
       "      <td>IBM</td>\n",
       "      <td>NaN</td>\n",
       "    </tr>\n",
       "    <tr>\n",
       "      <th>2</th>\n",
       "      <td>2023-01-03</td>\n",
       "      <td>4:00:00.017379840</td>\n",
       "      <td>136.29</td>\n",
       "      <td>1</td>\n",
       "      <td>0.00</td>\n",
       "      <td>0</td>\n",
       "      <td>NaN</td>\n",
       "      <td>C</td>\n",
       "      <td>IBM</td>\n",
       "      <td>NaN</td>\n",
       "    </tr>\n",
       "    <tr>\n",
       "      <th>3</th>\n",
       "      <td>2023-01-03</td>\n",
       "      <td>4:00:00.017379840</td>\n",
       "      <td>136.29</td>\n",
       "      <td>1</td>\n",
       "      <td>147.52</td>\n",
       "      <td>1</td>\n",
       "      <td>NaN</td>\n",
       "      <td>C</td>\n",
       "      <td>IBM</td>\n",
       "      <td>NaN</td>\n",
       "    </tr>\n",
       "    <tr>\n",
       "      <th>4</th>\n",
       "      <td>2023-01-03</td>\n",
       "      <td>4:00:00.017384704</td>\n",
       "      <td>136.29</td>\n",
       "      <td>2</td>\n",
       "      <td>147.52</td>\n",
       "      <td>1</td>\n",
       "      <td>NaN</td>\n",
       "      <td>C</td>\n",
       "      <td>IBM</td>\n",
       "      <td>NaN</td>\n",
       "    </tr>\n",
       "    <tr>\n",
       "      <th>...</th>\n",
       "      <td>...</td>\n",
       "      <td>...</td>\n",
       "      <td>...</td>\n",
       "      <td>...</td>\n",
       "      <td>...</td>\n",
       "      <td>...</td>\n",
       "      <td>...</td>\n",
       "      <td>...</td>\n",
       "      <td>...</td>\n",
       "      <td>...</td>\n",
       "    </tr>\n",
       "    <tr>\n",
       "      <th>99995</th>\n",
       "      <td>2023-01-03</td>\n",
       "      <td>10:00:45.785330944</td>\n",
       "      <td>141.18</td>\n",
       "      <td>1</td>\n",
       "      <td>141.25</td>\n",
       "      <td>1</td>\n",
       "      <td>NaN</td>\n",
       "      <td>C</td>\n",
       "      <td>IBM</td>\n",
       "      <td>NaN</td>\n",
       "    </tr>\n",
       "    <tr>\n",
       "      <th>99996</th>\n",
       "      <td>2023-01-03</td>\n",
       "      <td>10:00:45.785335808</td>\n",
       "      <td>141.17</td>\n",
       "      <td>1</td>\n",
       "      <td>141.25</td>\n",
       "      <td>1</td>\n",
       "      <td>NaN</td>\n",
       "      <td>C</td>\n",
       "      <td>IBM</td>\n",
       "      <td>NaN</td>\n",
       "    </tr>\n",
       "    <tr>\n",
       "      <th>99997</th>\n",
       "      <td>2023-01-03</td>\n",
       "      <td>10:00:45.785360896</td>\n",
       "      <td>141.14</td>\n",
       "      <td>1</td>\n",
       "      <td>141.26</td>\n",
       "      <td>2</td>\n",
       "      <td>NaN</td>\n",
       "      <td>C</td>\n",
       "      <td>IBM</td>\n",
       "      <td>NaN</td>\n",
       "    </tr>\n",
       "    <tr>\n",
       "      <th>99998</th>\n",
       "      <td>2023-01-03</td>\n",
       "      <td>10:00:45.785380864</td>\n",
       "      <td>141.17</td>\n",
       "      <td>1</td>\n",
       "      <td>141.51</td>\n",
       "      <td>1</td>\n",
       "      <td>NaN</td>\n",
       "      <td>C</td>\n",
       "      <td>IBM</td>\n",
       "      <td>NaN</td>\n",
       "    </tr>\n",
       "    <tr>\n",
       "      <th>99999</th>\n",
       "      <td>2023-01-03</td>\n",
       "      <td>10:00:45.785726720</td>\n",
       "      <td>141.09</td>\n",
       "      <td>1</td>\n",
       "      <td>141.25</td>\n",
       "      <td>1</td>\n",
       "      <td>NaN</td>\n",
       "      <td>C</td>\n",
       "      <td>IBM</td>\n",
       "      <td>NaN</td>\n",
       "    </tr>\n",
       "  </tbody>\n",
       "</table>\n",
       "<p>100000 rows × 10 columns</p>\n",
       "</div>"
      ],
      "text/plain": [
       "             DATE              TIME_M     BID  BIDSIZ     ASK  ASKSIZ  \\\n",
       "0      2023-01-03   3:59:00.044724480    0.00       0    0.00       0   \n",
       "1      2023-01-03   3:59:00.189233408    0.00       0    0.00       0   \n",
       "2      2023-01-03   4:00:00.017379840  136.29       1    0.00       0   \n",
       "3      2023-01-03   4:00:00.017379840  136.29       1  147.52       1   \n",
       "4      2023-01-03   4:00:00.017384704  136.29       2  147.52       1   \n",
       "...           ...                 ...     ...     ...     ...     ...   \n",
       "99995  2023-01-03  10:00:45.785330944  141.18       1  141.25       1   \n",
       "99996  2023-01-03  10:00:45.785335808  141.17       1  141.25       1   \n",
       "99997  2023-01-03  10:00:45.785360896  141.14       1  141.26       2   \n",
       "99998  2023-01-03  10:00:45.785380864  141.17       1  141.51       1   \n",
       "99999  2023-01-03  10:00:45.785726720  141.09       1  141.25       1   \n",
       "\n",
       "       QU_CANCEL QU_SOURCE SYM_ROOT  SYM_SUFFIX  \n",
       "0            NaN         C      IBM         NaN  \n",
       "1            NaN         C      IBM         NaN  \n",
       "2            NaN         C      IBM         NaN  \n",
       "3            NaN         C      IBM         NaN  \n",
       "4            NaN         C      IBM         NaN  \n",
       "...          ...       ...      ...         ...  \n",
       "99995        NaN         C      IBM         NaN  \n",
       "99996        NaN         C      IBM         NaN  \n",
       "99997        NaN         C      IBM         NaN  \n",
       "99998        NaN         C      IBM         NaN  \n",
       "99999        NaN         C      IBM         NaN  \n",
       "\n",
       "[100000 rows x 10 columns]"
      ]
     },
     "execution_count": 7,
     "metadata": {},
     "output_type": "execute_result"
    }
   ],
   "source": [
    "df"
   ]
  },
  {
   "cell_type": "code",
   "execution_count": 17,
   "metadata": {},
   "outputs": [],
   "source": [
    "df = pd.read_csv(r\"ibm_millisecond.csv\",skiprows=2,nrows=100000)"
   ]
  },
  {
   "cell_type": "code",
   "execution_count": 18,
   "metadata": {},
   "outputs": [
    {
     "data": {
      "text/html": [
       "<div>\n",
       "<style scoped>\n",
       "    .dataframe tbody tr th:only-of-type {\n",
       "        vertical-align: middle;\n",
       "    }\n",
       "\n",
       "    .dataframe tbody tr th {\n",
       "        vertical-align: top;\n",
       "    }\n",
       "\n",
       "    .dataframe thead th {\n",
       "        text-align: right;\n",
       "    }\n",
       "</style>\n",
       "<table border=\"1\" class=\"dataframe\">\n",
       "  <thead>\n",
       "    <tr style=\"text-align: right;\">\n",
       "      <th></th>\n",
       "      <th>2023-01-03</th>\n",
       "      <th>3:59:00.189233408</th>\n",
       "      <th>0</th>\n",
       "      <th>0.1</th>\n",
       "      <th>0.2</th>\n",
       "      <th>0.3</th>\n",
       "      <th>Unnamed: 6</th>\n",
       "      <th>C</th>\n",
       "      <th>IBM</th>\n",
       "      <th>Unnamed: 9</th>\n",
       "    </tr>\n",
       "  </thead>\n",
       "  <tbody>\n",
       "    <tr>\n",
       "      <th>0</th>\n",
       "      <td>2023-01-03</td>\n",
       "      <td>4:00:00.017379840</td>\n",
       "      <td>136.29</td>\n",
       "      <td>1</td>\n",
       "      <td>0.00</td>\n",
       "      <td>0</td>\n",
       "      <td>NaN</td>\n",
       "      <td>C</td>\n",
       "      <td>IBM</td>\n",
       "      <td>NaN</td>\n",
       "    </tr>\n",
       "    <tr>\n",
       "      <th>1</th>\n",
       "      <td>2023-01-03</td>\n",
       "      <td>4:00:00.017379840</td>\n",
       "      <td>136.29</td>\n",
       "      <td>1</td>\n",
       "      <td>147.52</td>\n",
       "      <td>1</td>\n",
       "      <td>NaN</td>\n",
       "      <td>C</td>\n",
       "      <td>IBM</td>\n",
       "      <td>NaN</td>\n",
       "    </tr>\n",
       "    <tr>\n",
       "      <th>2</th>\n",
       "      <td>2023-01-03</td>\n",
       "      <td>4:00:00.017384704</td>\n",
       "      <td>136.29</td>\n",
       "      <td>2</td>\n",
       "      <td>147.52</td>\n",
       "      <td>1</td>\n",
       "      <td>NaN</td>\n",
       "      <td>C</td>\n",
       "      <td>IBM</td>\n",
       "      <td>NaN</td>\n",
       "    </tr>\n",
       "    <tr>\n",
       "      <th>3</th>\n",
       "      <td>2023-01-03</td>\n",
       "      <td>4:00:00.017384704</td>\n",
       "      <td>136.29</td>\n",
       "      <td>2</td>\n",
       "      <td>146.24</td>\n",
       "      <td>1</td>\n",
       "      <td>NaN</td>\n",
       "      <td>C</td>\n",
       "      <td>IBM</td>\n",
       "      <td>NaN</td>\n",
       "    </tr>\n",
       "    <tr>\n",
       "      <th>4</th>\n",
       "      <td>2023-01-03</td>\n",
       "      <td>4:00:00.017394944</td>\n",
       "      <td>136.29</td>\n",
       "      <td>2</td>\n",
       "      <td>141.79</td>\n",
       "      <td>2</td>\n",
       "      <td>NaN</td>\n",
       "      <td>C</td>\n",
       "      <td>IBM</td>\n",
       "      <td>NaN</td>\n",
       "    </tr>\n",
       "    <tr>\n",
       "      <th>...</th>\n",
       "      <td>...</td>\n",
       "      <td>...</td>\n",
       "      <td>...</td>\n",
       "      <td>...</td>\n",
       "      <td>...</td>\n",
       "      <td>...</td>\n",
       "      <td>...</td>\n",
       "      <td>...</td>\n",
       "      <td>...</td>\n",
       "      <td>...</td>\n",
       "    </tr>\n",
       "    <tr>\n",
       "      <th>99995</th>\n",
       "      <td>2023-01-03</td>\n",
       "      <td>10:00:45.785360896</td>\n",
       "      <td>141.14</td>\n",
       "      <td>1</td>\n",
       "      <td>141.26</td>\n",
       "      <td>2</td>\n",
       "      <td>NaN</td>\n",
       "      <td>C</td>\n",
       "      <td>IBM</td>\n",
       "      <td>NaN</td>\n",
       "    </tr>\n",
       "    <tr>\n",
       "      <th>99996</th>\n",
       "      <td>2023-01-03</td>\n",
       "      <td>10:00:45.785380864</td>\n",
       "      <td>141.17</td>\n",
       "      <td>1</td>\n",
       "      <td>141.51</td>\n",
       "      <td>1</td>\n",
       "      <td>NaN</td>\n",
       "      <td>C</td>\n",
       "      <td>IBM</td>\n",
       "      <td>NaN</td>\n",
       "    </tr>\n",
       "    <tr>\n",
       "      <th>99997</th>\n",
       "      <td>2023-01-03</td>\n",
       "      <td>10:00:45.785726720</td>\n",
       "      <td>141.09</td>\n",
       "      <td>1</td>\n",
       "      <td>141.25</td>\n",
       "      <td>1</td>\n",
       "      <td>NaN</td>\n",
       "      <td>C</td>\n",
       "      <td>IBM</td>\n",
       "      <td>NaN</td>\n",
       "    </tr>\n",
       "    <tr>\n",
       "      <th>99998</th>\n",
       "      <td>2023-01-03</td>\n",
       "      <td>10:00:45.792437760</td>\n",
       "      <td>141.15</td>\n",
       "      <td>1</td>\n",
       "      <td>141.26</td>\n",
       "      <td>2</td>\n",
       "      <td>NaN</td>\n",
       "      <td>C</td>\n",
       "      <td>IBM</td>\n",
       "      <td>NaN</td>\n",
       "    </tr>\n",
       "    <tr>\n",
       "      <th>99999</th>\n",
       "      <td>2023-01-03</td>\n",
       "      <td>10:00:46.020173568</td>\n",
       "      <td>141.09</td>\n",
       "      <td>1</td>\n",
       "      <td>141.30</td>\n",
       "      <td>1</td>\n",
       "      <td>NaN</td>\n",
       "      <td>C</td>\n",
       "      <td>IBM</td>\n",
       "      <td>NaN</td>\n",
       "    </tr>\n",
       "  </tbody>\n",
       "</table>\n",
       "<p>100000 rows × 10 columns</p>\n",
       "</div>"
      ],
      "text/plain": [
       "       2023-01-03   3:59:00.189233408       0  0.1     0.2  0.3  Unnamed: 6  \\\n",
       "0      2023-01-03   4:00:00.017379840  136.29    1    0.00    0         NaN   \n",
       "1      2023-01-03   4:00:00.017379840  136.29    1  147.52    1         NaN   \n",
       "2      2023-01-03   4:00:00.017384704  136.29    2  147.52    1         NaN   \n",
       "3      2023-01-03   4:00:00.017384704  136.29    2  146.24    1         NaN   \n",
       "4      2023-01-03   4:00:00.017394944  136.29    2  141.79    2         NaN   \n",
       "...           ...                 ...     ...  ...     ...  ...         ...   \n",
       "99995  2023-01-03  10:00:45.785360896  141.14    1  141.26    2         NaN   \n",
       "99996  2023-01-03  10:00:45.785380864  141.17    1  141.51    1         NaN   \n",
       "99997  2023-01-03  10:00:45.785726720  141.09    1  141.25    1         NaN   \n",
       "99998  2023-01-03  10:00:45.792437760  141.15    1  141.26    2         NaN   \n",
       "99999  2023-01-03  10:00:46.020173568  141.09    1  141.30    1         NaN   \n",
       "\n",
       "       C  IBM  Unnamed: 9  \n",
       "0      C  IBM         NaN  \n",
       "1      C  IBM         NaN  \n",
       "2      C  IBM         NaN  \n",
       "3      C  IBM         NaN  \n",
       "4      C  IBM         NaN  \n",
       "...   ..  ...         ...  \n",
       "99995  C  IBM         NaN  \n",
       "99996  C  IBM         NaN  \n",
       "99997  C  IBM         NaN  \n",
       "99998  C  IBM         NaN  \n",
       "99999  C  IBM         NaN  \n",
       "\n",
       "[100000 rows x 10 columns]"
      ]
     },
     "execution_count": 18,
     "metadata": {},
     "output_type": "execute_result"
    }
   ],
   "source": [
    "df"
   ]
  },
  {
   "cell_type": "code",
   "execution_count": 19,
   "metadata": {},
   "outputs": [
    {
     "data": {
      "text/plain": [
       "136.29"
      ]
     },
     "execution_count": 19,
     "metadata": {},
     "output_type": "execute_result"
    }
   ],
   "source": [
    "df.iloc[0,2]"
   ]
  },
  {
   "cell_type": "code",
   "execution_count": 1,
   "metadata": {},
   "outputs": [],
   "source": [
    "import pandas as pd\n",
    "import numpy as np\n",
    "from trade_agent import Agent"
   ]
  },
  {
   "cell_type": "code",
   "execution_count": 2,
   "metadata": {},
   "outputs": [
    {
     "name": "stdout",
     "output_type": "stream",
     "text": [
      "{'ask1_price': 99.74066282902481, 'ask1_quantity': 1, 'bid1_price': 99.73033515143982, 'bid1_quantity': 1}\n"
     ]
    }
   ],
   "source": [
    "new_agent = Agent(\"IBM\",1,False)\n",
    "new_agent.update_tradebook()\n",
    "new_agent.update_price()\n",
    "orderbook = new_agent.get_orderbook()\n",
    "ask1_price = orderbook['ask1_price']\n",
    "ask1_quantity = orderbook['ask1_quantity']\n",
    "bid1_price = orderbook['bid1_price']\n",
    "bid1_quantity = orderbook['bid1_quantity']"
   ]
  },
  {
   "cell_type": "code",
   "execution_count": 3,
   "metadata": {},
   "outputs": [],
   "source": [
    "new_agent = Agent(\"IBM\",1,False)\n",
    "for i in range(99):\n",
    "    new_agent.update_tradebook()\n",
    "    new_agent.update_price()\n",
    "    orderbook = new_agent.get_orderbook()\n",
    "    ask1_price = orderbook['ask1_price']\n",
    "    ask1_quantity = orderbook['ask1_quantity']\n",
    "    bid1_price = orderbook['bid1_price']\n",
    "    bid1_quantity = orderbook['bid1_quantity']\n",
    "    fair_price = (ask1_price*ask1_quantity + bid1_price*bid1_quantity)/2\n",
    "    myorder = {}\n",
    "    myorder['ask1_price'] = fair_price+1\n",
    "    myorder['ask1_quantity'] = 1\n",
    "    myorder['bid1_price'] = fair_price-1\n",
    "    myorder['bid1_quantity'] = 1\n",
    "    new_agent.trade_submit(myorder)\n",
    "    new_agent.run_next_round()"
   ]
  },
  {
   "cell_type": "code",
   "execution_count": 9,
   "metadata": {},
   "outputs": [],
   "source": [
    "import yaml\n",
    "import matplotlib.pyplot as plt\n",
    "cur_yaml = None\n",
    "with open(new_agent.price_path, 'r') as yamlfile:\n",
    "    cur_yaml = yaml.safe_load(yamlfile)"
   ]
  },
  {
   "cell_type": "code",
   "execution_count": 10,
   "metadata": {},
   "outputs": [
    {
     "data": {
      "text/plain": [
       "[<matplotlib.lines.Line2D at 0x1cbc9c8b3d0>]"
      ]
     },
     "execution_count": 10,
     "metadata": {},
     "output_type": "execute_result"
    },
    {
     "data": {
      "image/png": "[encoded data removed]",
      "text/plain": [
       "<Figure size 640x480 with 1 Axes>"
      ]
     },
     "metadata": {},
     "output_type": "display_data"
    }
   ],
   "source": [
    "plt.plot(cur_yaml['IBM'].values())"
   ]
  },
  {
   "cell_type": "code",
   "execution_count": 4,
   "metadata": {},
   "outputs": [],
   "source": [
    "from sqlitedict import SqliteDict\n"
   ]
  },
  {
   "cell_type": "code",
   "execution_count": 12,
   "metadata": {},
   "outputs": [],
   "source": [
    "db = SqliteDict(\"example.sqlite\",tablename=\"trade_book\")"
   ]
  },
  {
   "cell_type": "code",
   "execution_count": 13,
   "metadata": {},
   "outputs": [
    {
     "name": "stdout",
     "output_type": "stream",
     "text": [
      "{'IBM': {'ask1_price': 247.5067187768224, 'ask1_quantity': 1, 'bid1_price': 245.5067187768224, 'bid1_quantity': 1}}\n",
      "{'IBM': {'ask1_price': 257.3360976624815, 'ask1_quantity': 1, 'bid1_price': 255.3360976624815, 'bid1_quantity': 1}}\n",
      "{'IBM': {'ask1_price': 200.5589237118669, 'ask1_quantity': 1, 'bid1_price': 198.5589237118669, 'bid1_quantity': 1}}\n",
      "{'IBM': {'ask1_price': 155.47049117124828, 'ask1_quantity': 1, 'bid1_price': 153.47049117124828, 'bid1_quantity': 1}}\n",
      "{'IBM': {'ask1_price': 214.00156195692705, 'ask1_quantity': 1, 'bid1_price': 212.00156195692705, 'bid1_quantity': 1}}\n",
      "{'IBM': {'ask1_price': 324.0692418268046, 'ask1_quantity': 1, 'bid1_price': 322.0692418268046, 'bid1_quantity': 1}}\n",
      "{'IBM': {'ask1_price': 271.95583760121735, 'ask1_quantity': 1, 'bid1_price': 269.95583760121735, 'bid1_quantity': 1}}\n",
      "{'IBM': {'ask1_price': 110.980124551429, 'ask1_quantity': 1, 'bid1_price': 108.980124551429, 'bid1_quantity': 1}}\n",
      "{'IBM': {'ask1_price': 223.5295818170846, 'ask1_quantity': 1, 'bid1_price': 221.5295818170846, 'bid1_quantity': 1}}\n",
      "{'IBM': {'ask1_price': 168.4195731283484, 'ask1_quantity': 1, 'bid1_price': 166.4195731283484, 'bid1_quantity': 1}}\n",
      "{'IBM': {'ask1_price': 117.02143090274973, 'ask1_quantity': 1, 'bid1_price': 115.02143090274973, 'bid1_quantity': 1}}\n",
      "{'IBM': {'ask1_price': 184.0024834552407, 'ask1_quantity': 1, 'bid1_price': 182.0024834552407, 'bid1_quantity': 1}}\n",
      "{'IBM': {'ask1_price': 239.87528645317823, 'ask1_quantity': 1, 'bid1_price': 237.87528645317823, 'bid1_quantity': 1}}\n",
      "{'IBM': {'ask1_price': 311.14807525086206, 'ask1_quantity': 1, 'bid1_price': 309.14807525086206, 'bid1_quantity': 1}}\n",
      "{'IBM': {'ask1_price': 201.3122362966966, 'ask1_quantity': 1, 'bid1_price': 199.3122362966966, 'bid1_quantity': 1}}\n",
      "{'IBM': {'ask1_price': 261.0413625234287, 'ask1_quantity': 1, 'bid1_price': 259.0413625234287, 'bid1_quantity': 1}}\n",
      "{'IBM': {'ask1_price': 194.21480213947459, 'ask1_quantity': 1, 'bid1_price': 192.21480213947459, 'bid1_quantity': 1}}\n",
      "{'IBM': {'ask1_price': 251.44522871030622, 'ask1_quantity': 1, 'bid1_price': 249.44522871030622, 'bid1_quantity': 1}}\n",
      "{'IBM': {'ask1_price': 319.2476320474104, 'ask1_quantity': 1, 'bid1_price': 317.2476320474104, 'bid1_quantity': 1}}\n",
      "{'IBM': {'ask1_price': 323.6540804345451, 'ask1_quantity': 1, 'bid1_price': 321.6540804345451, 'bid1_quantity': 1}}\n",
      "{'IBM': {'ask1_price': 195.37953038550557, 'ask1_quantity': 1, 'bid1_price': 193.37953038550557, 'bid1_quantity': 1}}\n",
      "{'IBM': {'ask1_price': 193.78961456241433, 'ask1_quantity': 1, 'bid1_price': 191.78961456241433, 'bid1_quantity': 1}}\n",
      "{'IBM': {'ask1_price': 196.86181163956888, 'ask1_quantity': 1, 'bid1_price': 194.86181163956888, 'bid1_quantity': 1}}\n",
      "{'IBM': {'ask1_price': 379.09913017327256, 'ask1_quantity': 1, 'bid1_price': 377.09913017327256, 'bid1_quantity': 1}}\n",
      "{'IBM': {'ask1_price': 370.6814135294801, 'ask1_quantity': 1, 'bid1_price': 368.6814135294801, 'bid1_quantity': 1}}\n",
      "{'IBM': {'ask1_price': 126.99791030788366, 'ask1_quantity': 1, 'bid1_price': 124.99791030788366, 'bid1_quantity': 1}}\n",
      "{'IBM': {'ask1_price': 320.16479316914126, 'ask1_quantity': 1, 'bid1_price': 318.16479316914126, 'bid1_quantity': 1}}\n",
      "{'IBM': {'ask1_price': 241.8593168198195, 'ask1_quantity': 1, 'bid1_price': 239.8593168198195, 'bid1_quantity': 1}}\n",
      "{'IBM': {'ask1_price': 233.75431172557384, 'ask1_quantity': 1, 'bid1_price': 231.75431172557384, 'bid1_quantity': 1}}\n",
      "{'IBM': {'ask1_price': 120.1582436370346, 'ask1_quantity': 1, 'bid1_price': 118.1582436370346, 'bid1_quantity': 1}}\n",
      "{'IBM': {'ask1_price': 169.24676620545972, 'ask1_quantity': 1, 'bid1_price': 167.24676620545972, 'bid1_quantity': 1}}\n",
      "{'IBM': {'ask1_price': 339.73095928618136, 'ask1_quantity': 1, 'bid1_price': 337.73095928618136, 'bid1_quantity': 1}}\n",
      "{'IBM': {'ask1_price': 279.90228682836306, 'ask1_quantity': 1, 'bid1_price': 277.90228682836306, 'bid1_quantity': 1}}\n",
      "{'IBM': {'ask1_price': 222.94531441512288, 'ask1_quantity': 1, 'bid1_price': 220.94531441512288, 'bid1_quantity': 1}}\n",
      "{'IBM': {'ask1_price': 223.7216462996529, 'ask1_quantity': 1, 'bid1_price': 221.7216462996529, 'bid1_quantity': 1}}\n",
      "{'IBM': {'ask1_price': 276.5078757421994, 'ask1_quantity': 1, 'bid1_price': 274.5078757421994, 'bid1_quantity': 1}}\n",
      "{'IBM': {'ask1_price': 162.2177454540372, 'ask1_quantity': 1, 'bid1_price': 160.2177454540372, 'bid1_quantity': 1}}\n",
      "{'IBM': {'ask1_price': 208.01097013550782, 'ask1_quantity': 1, 'bid1_price': 206.01097013550782, 'bid1_quantity': 1}}\n",
      "{'IBM': {'ask1_price': 203.26728511856754, 'ask1_quantity': 1, 'bid1_price': 201.26728511856754, 'bid1_quantity': 1}}\n",
      "{'IBM': {'ask1_price': 148.44720190421137, 'ask1_quantity': 1, 'bid1_price': 146.44720190421137, 'bid1_quantity': 1}}\n",
      "{'IBM': {'ask1_price': 248.41970301392118, 'ask1_quantity': 1, 'bid1_price': 246.41970301392118, 'bid1_quantity': 1}}\n",
      "{'IBM': {'ask1_price': 275.31385414389644, 'ask1_quantity': 1, 'bid1_price': 273.31385414389644, 'bid1_quantity': 1}}\n",
      "{'IBM': {'ask1_price': 281.39026640140696, 'ask1_quantity': 1, 'bid1_price': 279.39026640140696, 'bid1_quantity': 1}}\n",
      "{'IBM': {'ask1_price': 286.0229793574118, 'ask1_quantity': 1, 'bid1_price': 284.0229793574118, 'bid1_quantity': 1}}\n",
      "{'IBM': {'ask1_price': 344.26922956783744, 'ask1_quantity': 1, 'bid1_price': 342.26922956783744, 'bid1_quantity': 1}}\n",
      "{'IBM': {'ask1_price': 235.34430991464097, 'ask1_quantity': 1, 'bid1_price': 233.34430991464097, 'bid1_quantity': 1}}\n",
      "{'IBM': {'ask1_price': 254.7168879415423, 'ask1_quantity': 1, 'bid1_price': 252.7168879415423, 'bid1_quantity': 1}}\n",
      "{'IBM': {'ask1_price': 183.1928208913285, 'ask1_quantity': 1, 'bid1_price': 181.1928208913285, 'bid1_quantity': 1}}\n",
      "{'IBM': {'ask1_price': 369.7192121814963, 'ask1_quantity': 1, 'bid1_price': 367.7192121814963, 'bid1_quantity': 1}}\n",
      "{'IBM': {'ask1_price': 127.01285726437482, 'ask1_quantity': 1, 'bid1_price': 125.01285726437482, 'bid1_quantity': 1}}\n",
      "{'IBM': {'ask1_price': 200.17590432828877, 'ask1_quantity': 1, 'bid1_price': 198.17590432828877, 'bid1_quantity': 1}}\n",
      "{'IBM': {'ask1_price': 405.59965292863046, 'ask1_quantity': 1, 'bid1_price': 403.59965292863046, 'bid1_quantity': 1}}\n",
      "{'IBM': {'ask1_price': 411.3290937360332, 'ask1_quantity': 1, 'bid1_price': 409.3290937360332, 'bid1_quantity': 1}}\n",
      "{'IBM': {'ask1_price': 138.09947228182182, 'ask1_quantity': 1, 'bid1_price': 136.09947228182182, 'bid1_quantity': 1}}\n",
      "{'IBM': {'ask1_price': 142.72300077663132, 'ask1_quantity': 1, 'bid1_price': 140.72300077663132, 'bid1_quantity': 1}}\n",
      "{'IBM': {'ask1_price': 218.32759059099854, 'ask1_quantity': 1, 'bid1_price': 216.32759059099854, 'bid1_quantity': 1}}\n",
      "{'IBM': {'ask1_price': 440.6389260038353, 'ask1_quantity': 1, 'bid1_price': 438.6389260038353, 'bid1_quantity': 1}}\n",
      "{'IBM': {'ask1_price': 214.09820184862548, 'ask1_quantity': 1, 'bid1_price': 212.09820184862548, 'bid1_quantity': 1}}\n",
      "{'IBM': {'ask1_price': 294.5168176989411, 'ask1_quantity': 1, 'bid1_price': 292.5168176989411, 'bid1_quantity': 1}}\n",
      "{'IBM': {'ask1_price': 297.6273339093129, 'ask1_quantity': 1, 'bid1_price': 295.6273339093129, 'bid1_quantity': 1}}\n",
      "{'IBM': {'ask1_price': 237.79755026558027, 'ask1_quantity': 1, 'bid1_price': 235.79755026558027, 'bid1_quantity': 1}}\n",
      "{'IBM': {'ask1_price': 235.1402495281155, 'ask1_quantity': 1, 'bid1_price': 233.1402495281155, 'bid1_quantity': 1}}\n",
      "{'IBM': {'ask1_price': 391.16787183030044, 'ask1_quantity': 1, 'bid1_price': 389.16787183030044, 'bid1_quantity': 1}}\n",
      "{'IBM': {'ask1_price': 487.2588722478516, 'ask1_quantity': 1, 'bid1_price': 485.2588722478516, 'bid1_quantity': 1}}\n",
      "{'IBM': {'ask1_price': 512.2333721261882, 'ask1_quantity': 1, 'bid1_price': 510.23337212618827, 'bid1_quantity': 1}}\n",
      "{'IBM': {'ask1_price': 247.6224197511931, 'ask1_quantity': 1, 'bid1_price': 245.6224197511931, 'bid1_quantity': 1}}\n",
      "{'IBM': {'ask1_price': 328.63928188018144, 'ask1_quantity': 1, 'bid1_price': 326.63928188018144, 'bid1_quantity': 1}}\n",
      "{'IBM': {'ask1_price': 346.9197662244807, 'ask1_quantity': 1, 'bid1_price': 344.9197662244807, 'bid1_quantity': 1}}\n",
      "{'IBM': {'ask1_price': 500.5024492586843, 'ask1_quantity': 1, 'bid1_price': 498.5024492586843, 'bid1_quantity': 1}}\n",
      "{'IBM': {'ask1_price': 251.0362885402845, 'ask1_quantity': 1, 'bid1_price': 249.0362885402845, 'bid1_quantity': 1}}\n",
      "{'IBM': {'ask1_price': 493.19087564085635, 'ask1_quantity': 1, 'bid1_price': 491.19087564085635, 'bid1_quantity': 1}}\n",
      "{'IBM': {'ask1_price': 488.10478345878596, 'ask1_quantity': 1, 'bid1_price': 486.10478345878596, 'bid1_quantity': 1}}\n",
      "{'IBM': {'ask1_price': 403.0804555714948, 'ask1_quantity': 1, 'bid1_price': 401.0804555714948, 'bid1_quantity': 1}}\n",
      "{'IBM': {'ask1_price': 508.32607610916256, 'ask1_quantity': 1, 'bid1_price': 506.32607610916256, 'bid1_quantity': 1}}\n",
      "{'IBM': {'ask1_price': 344.62891091906107, 'ask1_quantity': 1, 'bid1_price': 342.62891091906107, 'bid1_quantity': 1}}\n",
      "{'IBM': {'ask1_price': 420.950639536761, 'ask1_quantity': 1, 'bid1_price': 418.950639536761, 'bid1_quantity': 1}}\n",
      "{'IBM': {'ask1_price': 254.77288740124493, 'ask1_quantity': 1, 'bid1_price': 252.77288740124493, 'bid1_quantity': 1}}\n",
      "{'IBM': {'ask1_price': 431.44729654435355, 'ask1_quantity': 1, 'bid1_price': 429.44729654435355, 'bid1_quantity': 1}}\n",
      "{'IBM': {'ask1_price': 559.7457327184363, 'ask1_quantity': 1, 'bid1_price': 557.7457327184363, 'bid1_quantity': 1}}\n",
      "{'IBM': {'ask1_price': 383.2826838296983, 'ask1_quantity': 1, 'bid1_price': 381.2826838296983, 'bid1_quantity': 1}}\n",
      "{'IBM': {'ask1_price': 293.30273522455, 'ask1_quantity': 1, 'bid1_price': 291.30273522455, 'bid1_quantity': 1}}\n",
      "{'IBM': {'ask1_price': 374.7467344521555, 'ask1_quantity': 1, 'bid1_price': 372.7467344521555, 'bid1_quantity': 1}}\n",
      "{'IBM': {'ask1_price': 390.2768581657508, 'ask1_quantity': 1, 'bid1_price': 388.2768581657508, 'bid1_quantity': 1}}\n",
      "{'IBM': {'ask1_price': 286.46781398217354, 'ask1_quantity': 1, 'bid1_price': 284.46781398217354, 'bid1_quantity': 1}}\n",
      "{'IBM': {'ask1_price': 382.7095898152542, 'ask1_quantity': 1, 'bid1_price': 380.7095898152542, 'bid1_quantity': 1}}\n",
      "{'IBM': {'ask1_price': 293.3318341486724, 'ask1_quantity': 1, 'bid1_price': 291.3318341486724, 'bid1_quantity': 1}}\n",
      "{'IBM': {'ask1_price': 395.19872518935404, 'ask1_quantity': 1, 'bid1_price': 393.19872518935404, 'bid1_quantity': 1}}\n",
      "{'IBM': {'ask1_price': 401.00286335306765, 'ask1_quantity': 1, 'bid1_price': 399.00286335306765, 'bid1_quantity': 1}}\n",
      "{'IBM': {'ask1_price': 414.9826673181784, 'ask1_quantity': 1, 'bid1_price': 412.9826673181784, 'bid1_quantity': 1}}\n",
      "{'IBM': {'ask1_price': 408.86548127639253, 'ask1_quantity': 1, 'bid1_price': 406.86548127639253, 'bid1_quantity': 1}}\n",
      "{'IBM': {'ask1_price': 542.020167855066, 'ask1_quantity': 1, 'bid1_price': 540.020167855066, 'bid1_quantity': 1}}\n",
      "{'IBM': {'ask1_price': 557.516587699094, 'ask1_quantity': 1, 'bid1_price': 555.516587699094, 'bid1_quantity': 1}}\n",
      "{'IBM': {'ask1_price': 336.70555490627066, 'ask1_quantity': 1, 'bid1_price': 334.70555490627066, 'bid1_quantity': 1}}\n",
      "{'IBM': {'ask1_price': 453.1927392813343, 'ask1_quantity': 1, 'bid1_price': 451.1927392813343, 'bid1_quantity': 1}}\n",
      "{'IBM': {'ask1_price': 463.34696664916356, 'ask1_quantity': 1, 'bid1_price': 461.34696664916356, 'bid1_quantity': 1}}\n",
      "{'IBM': {'ask1_price': 228.19635449115395, 'ask1_quantity': 1, 'bid1_price': 226.19635449115395, 'bid1_quantity': 1}}\n",
      "{'IBM': {'ask1_price': 603.6981803406252, 'ask1_quantity': 1, 'bid1_price': 601.6981803406252, 'bid1_quantity': 1}}\n",
      "{'IBM': {'ask1_price': 488.91498415714443, 'ask1_quantity': 1, 'bid1_price': 486.91498415714443, 'bid1_quantity': 1}}\n",
      "{'IBM': {'ask1_price': 747.2868232525271, 'ask1_quantity': 1, 'bid1_price': 745.2868232525271, 'bid1_quantity': 1}}\n",
      "{'IBM': {'ask1_price': 470.663506830243, 'ask1_quantity': 1, 'bid1_price': 468.663506830243, 'bid1_quantity': 1}}\n"
     ]
    }
   ],
   "source": [
    "for item in db:\n",
    "    print(db[item])"
   ]
  },
  {
   "cell_type": "code",
   "execution_count": 11,
   "metadata": {},
   "outputs": [
    {
     "data": {
      "text/plain": [
       "[<matplotlib.lines.Line2D at 0x1daa72a13d0>]"
      ]
     },
     "execution_count": 11,
     "metadata": {},
     "output_type": "execute_result"
    },
    {
     "data": {
      "image/png": "[encoded data removed]",
      "text/plain": [
       "<Figure size 640x480 with 1 Axes>"
      ]
     },
     "metadata": {},
     "output_type": "display_data"
    }
   ],
   "source": [
    "import yaml\n",
    "import matplotlib.pyplot as plt\n",
    "plt.plot(price)"
   ]
  },
  {
   "cell_type": "code",
   "execution_count": 31,
   "metadata": {},
   "outputs": [],
   "source": [
    "product_copy = db[\"color\"]\n",
    "product_copy.update({\"color\": \"White\"})\n",
    "db[\"1\"] = product_copy"
   ]
  },
  {
   "cell_type": "code",
   "execution_count": 32,
   "metadata": {},
   "outputs": [],
   "source": [
    "db.commit()"
   ]
  }
 ],
 "metadata": {
  "kernelspec": {
   "display_name": "Python 3",
   "language": "python",
   "name": "python3"
  },
  "language_info": {
   "codemirror_mode": {
    "name": "ipython",
    "version": 3
   },
   "file_extension": ".py",
   "mimetype": "text/x-python",
   "name": "python",
   "nbconvert_exporter": "python",
   "pygments_lexer": "ipython3",
   "version": "3.11.6"
  },
  "orig_nbformat": 4
 },
 "nbformat": 4,
 "nbformat_minor": 2
}
